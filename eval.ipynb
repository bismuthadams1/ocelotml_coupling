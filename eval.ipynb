{
  "cells": [
    {
      "cell_type": "markdown",
      "metadata": {
        "id": "iT0H-e93uDj0"
      },
      "source": [
        "[![Open In Colab](https://colab.research.google.com/assets/colab-badge.svg)](https://colab.research.google.com/github/caer200/ocelotml_coupling/blob/main/eval.ipynb)"
      ]
    },
    {
      "cell_type": "markdown",
      "metadata": {
        "id": "cM2TW1p2qTju"
      },
      "source": [
        "## Helper functions to load model and generate the input"
      ]
    },
    {
      "cell_type": "code",
      "execution_count": null,
      "metadata": {
        "id": "h18-MHQef9t7"
      },
      "outputs": [],
      "source": [
        "from dig.threedgraph.method import SphereNet\n",
        "from dig.threedgraph.evaluation import ThreeDEvaluator\n",
        "import torch\n",
        "import numpy as np\n",
        "from torch_geometric.data import Data\n",
        "from pymatgen.core.structure import Structure, Molecule\n",
        "from torch_geometric.loader import DataLoader\n",
        "\n",
        "def predict(batch, checkpoint):\n",
        "    model = SphereNet(energy_and_force=False, cutoff=5.0, num_layers=4,\n",
        "                      hidden_channels=128, out_channels=1, int_emb_size=64,\n",
        "                      basis_emb_size_dist=8, basis_emb_size_angle=8, basis_emb_size_torsion=8, out_emb_channels=256,\n",
        "                      num_spherical=3, num_radial=6, envelope_exponent=5,\n",
        "                      num_before_skip=1, num_after_skip=2, num_output_layers=3)\n",
        "    model.load_state_dict(torch.load(checkpoint,map_location=torch.device('cpu'), weights_only = False)[\"model_state_dict\"])\n",
        "    model.eval()\n",
        "    results = []\n",
        "    for data in batch:\n",
        "        prediction = model(data)\n",
        "        results.append(round(prediction.detach().numpy()[-1][0],3))\n",
        "    return results\n",
        "\n",
        "def predict_from_molecule(molecule, checkpoint):\n",
        "    \"\"\"\n",
        "    args: \n",
        "\n",
        "    molecule (Molecule): pymatgen Molecule object\n",
        "    checkpoint (str): path to checkpoint file \n",
        "\n",
        "    Description:\n",
        "\n",
        "    Makes prediction from Molecule object\n",
        "    \"\"\"\n",
        "    R_i = torch.tensor(molecule.cart_coords, dtype=torch.float32)\n",
        "    z_i = torch.tensor(np.array(molecule.atomic_numbers), dtype=torch.int64)\n",
        "    data = Data(pos=R_i, z=z_i,)\n",
        "    batch = DataLoader([data], batch_size=1)\n",
        "    return predict(batch,checkpoint=checkpoint)\n",
        "\n",
        "def predict_from_file(filename, checkpoint):\n",
        "    \"\"\"\n",
        "    args: \n",
        "    \n",
        "    filename (str): path to xyz file\n",
        "    checkpoint (str): path to checkpoint file\n",
        "\n",
        "    Description:\n",
        "\n",
        "    Makes prediction from XYZ file with dimer coordinates\n",
        "    \"\"\"\n",
        "    molecule = Molecule.from_file(filename)\n",
        "    return predict_from_molecule(molecule, checkpoint)\n",
        "\n",
        "# get the pretrain model \n",
        "# ! git clone https://github.com/caer200/ocelotml_coupling.git"
      ]
    },
    {
      "cell_type": "markdown",
      "metadata": {
        "id": "RLWvZ7UkrYRZ"
      },
      "source": [
        "### Making HOMO-HOMO coupling prediction from XYZ file. Output in eV."
      ]
    },
    {
      "cell_type": "code",
      "execution_count": 5,
      "metadata": {
        "id": "94PGa6ivhy2f"
      },
      "outputs": [
        {
          "ename": "TypeError",
          "evalue": "device() got an unexpected keyword argument 'weights_only'",
          "output_type": "error",
          "traceback": [
            "\u001b[0;31m---------------------------------------------------------------------------\u001b[0m",
            "\u001b[0;31mTypeError\u001b[0m                                 Traceback (most recent call last)",
            "Cell \u001b[0;32mIn[5], line 1\u001b[0m\n\u001b[0;32m----> 1\u001b[0m \u001b[43mpredict_from_file\u001b[49m\u001b[43m(\u001b[49m\u001b[38;5;124;43m\"\u001b[39;49m\u001b[38;5;124;43m./test.xyz\u001b[39;49m\u001b[38;5;124;43m\"\u001b[39;49m\u001b[43m,\u001b[49m\u001b[38;5;124;43m\"\u001b[39;49m\u001b[38;5;124;43m./models/hh.pt\u001b[39;49m\u001b[38;5;124;43m\"\u001b[39;49m\u001b[43m)\u001b[49m[\u001b[38;5;241m0\u001b[39m]\n",
            "Cell \u001b[0;32mIn[4], line 52\u001b[0m, in \u001b[0;36mpredict_from_file\u001b[0;34m(filename, checkpoint)\u001b[0m\n\u001b[1;32m     41\u001b[0m \u001b[38;5;250m\u001b[39m\u001b[38;5;124;03m\"\"\"\u001b[39;00m\n\u001b[1;32m     42\u001b[0m \u001b[38;5;124;03margs: \u001b[39;00m\n\u001b[1;32m     43\u001b[0m \u001b[38;5;124;03m\u001b[39;00m\n\u001b[0;32m   (...)\u001b[0m\n\u001b[1;32m     49\u001b[0m \u001b[38;5;124;03mMakes prediction from XYZ file with dimer coordinates\u001b[39;00m\n\u001b[1;32m     50\u001b[0m \u001b[38;5;124;03m\"\"\"\u001b[39;00m\n\u001b[1;32m     51\u001b[0m molecule \u001b[38;5;241m=\u001b[39m Molecule\u001b[38;5;241m.\u001b[39mfrom_file(filename)\n\u001b[0;32m---> 52\u001b[0m \u001b[38;5;28;01mreturn\u001b[39;00m \u001b[43mpredict_from_molecule\u001b[49m\u001b[43m(\u001b[49m\u001b[43mmolecule\u001b[49m\u001b[43m,\u001b[49m\u001b[43m \u001b[49m\u001b[43mcheckpoint\u001b[49m\u001b[43m)\u001b[49m\n",
            "Cell \u001b[0;32mIn[4], line 38\u001b[0m, in \u001b[0;36mpredict_from_molecule\u001b[0;34m(molecule, checkpoint)\u001b[0m\n\u001b[1;32m     36\u001b[0m data \u001b[38;5;241m=\u001b[39m Data(pos\u001b[38;5;241m=\u001b[39mR_i, z\u001b[38;5;241m=\u001b[39mz_i,)\n\u001b[1;32m     37\u001b[0m batch \u001b[38;5;241m=\u001b[39m DataLoader([data], batch_size\u001b[38;5;241m=\u001b[39m\u001b[38;5;241m1\u001b[39m)\n\u001b[0;32m---> 38\u001b[0m \u001b[38;5;28;01mreturn\u001b[39;00m \u001b[43mpredict\u001b[49m\u001b[43m(\u001b[49m\u001b[43mbatch\u001b[49m\u001b[43m,\u001b[49m\u001b[43mcheckpoint\u001b[49m\u001b[38;5;241;43m=\u001b[39;49m\u001b[43mcheckpoint\u001b[49m\u001b[43m)\u001b[49m\n",
            "Cell \u001b[0;32mIn[4], line 15\u001b[0m, in \u001b[0;36mpredict\u001b[0;34m(batch, checkpoint)\u001b[0m\n\u001b[1;32m      9\u001b[0m \u001b[38;5;28;01mdef\u001b[39;00m\u001b[38;5;250m \u001b[39m\u001b[38;5;21mpredict\u001b[39m(batch, checkpoint):\n\u001b[1;32m     10\u001b[0m     model \u001b[38;5;241m=\u001b[39m SphereNet(energy_and_force\u001b[38;5;241m=\u001b[39m\u001b[38;5;28;01mFalse\u001b[39;00m, cutoff\u001b[38;5;241m=\u001b[39m\u001b[38;5;241m5.0\u001b[39m, num_layers\u001b[38;5;241m=\u001b[39m\u001b[38;5;241m4\u001b[39m,\n\u001b[1;32m     11\u001b[0m                       hidden_channels\u001b[38;5;241m=\u001b[39m\u001b[38;5;241m128\u001b[39m, out_channels\u001b[38;5;241m=\u001b[39m\u001b[38;5;241m1\u001b[39m, int_emb_size\u001b[38;5;241m=\u001b[39m\u001b[38;5;241m64\u001b[39m,\n\u001b[1;32m     12\u001b[0m                       basis_emb_size_dist\u001b[38;5;241m=\u001b[39m\u001b[38;5;241m8\u001b[39m, basis_emb_size_angle\u001b[38;5;241m=\u001b[39m\u001b[38;5;241m8\u001b[39m, basis_emb_size_torsion\u001b[38;5;241m=\u001b[39m\u001b[38;5;241m8\u001b[39m, out_emb_channels\u001b[38;5;241m=\u001b[39m\u001b[38;5;241m256\u001b[39m,\n\u001b[1;32m     13\u001b[0m                       num_spherical\u001b[38;5;241m=\u001b[39m\u001b[38;5;241m3\u001b[39m, num_radial\u001b[38;5;241m=\u001b[39m\u001b[38;5;241m6\u001b[39m, envelope_exponent\u001b[38;5;241m=\u001b[39m\u001b[38;5;241m5\u001b[39m,\n\u001b[1;32m     14\u001b[0m                       num_before_skip\u001b[38;5;241m=\u001b[39m\u001b[38;5;241m1\u001b[39m, num_after_skip\u001b[38;5;241m=\u001b[39m\u001b[38;5;241m2\u001b[39m, num_output_layers\u001b[38;5;241m=\u001b[39m\u001b[38;5;241m3\u001b[39m)\n\u001b[0;32m---> 15\u001b[0m     model\u001b[38;5;241m.\u001b[39mload_state_dict(torch\u001b[38;5;241m.\u001b[39mload(checkpoint,map_location\u001b[38;5;241m=\u001b[39m\u001b[43mtorch\u001b[49m\u001b[38;5;241;43m.\u001b[39;49m\u001b[43mdevice\u001b[49m\u001b[43m(\u001b[49m\u001b[38;5;124;43m'\u001b[39;49m\u001b[38;5;124;43mcpu\u001b[39;49m\u001b[38;5;124;43m'\u001b[39;49m\u001b[43m,\u001b[49m\u001b[43m \u001b[49m\u001b[43mweights_only\u001b[49m\u001b[43m \u001b[49m\u001b[38;5;241;43m=\u001b[39;49m\u001b[43m \u001b[49m\u001b[38;5;28;43;01mFalse\u001b[39;49;00m\u001b[43m)\u001b[49m)[\u001b[38;5;124m\"\u001b[39m\u001b[38;5;124mmodel_state_dict\u001b[39m\u001b[38;5;124m\"\u001b[39m])\n\u001b[1;32m     16\u001b[0m     model\u001b[38;5;241m.\u001b[39meval()\n\u001b[1;32m     17\u001b[0m     results \u001b[38;5;241m=\u001b[39m []\n",
            "\u001b[0;31mTypeError\u001b[0m: device() got an unexpected keyword argument 'weights_only'"
          ]
        }
      ],
      "source": [
        "predict_from_file(\"./test.xyz\",\"./models/hh.pt\")[0]"
      ]
    }
  ],
  "metadata": {
    "colab": {
      "provenance": []
    },
    "kernelspec": {
      "display_name": "Python 3",
      "language": "python",
      "name": "python3"
    },
    "language_info": {
      "codemirror_mode": {
        "name": "ipython",
        "version": 3
      },
      "file_extension": ".py",
      "mimetype": "text/x-python",
      "name": "python",
      "nbconvert_exporter": "python",
      "pygments_lexer": "ipython3",
      "version": "3.10.17"
    }
  },
  "nbformat": 4,
  "nbformat_minor": 0
}
