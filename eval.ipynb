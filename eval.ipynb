{
  "cells": [
    {
      "cell_type": "markdown",
      "metadata": {
        "id": "iT0H-e93uDj0"
      },
      "source": [
        "[![Open In Colab](https://colab.research.google.com/assets/colab-badge.svg)](https://colab.research.google.com/github/caer200/ocelotml_coupling/blob/main/eval.ipynb)"
      ]
    },
    {
      "cell_type": "code",
      "execution_count": 1,
      "metadata": {},
      "outputs": [],
      "source": [
        "from ocelotml import predict_from_file, load_models"
      ]
    },
    {
      "cell_type": "code",
      "execution_count": 2,
      "metadata": {},
      "outputs": [],
      "source": [
        "model =  load_models('hh')"
      ]
    },
    {
      "cell_type": "code",
      "execution_count": 3,
      "metadata": {},
      "outputs": [
        {
          "data": {
            "text/plain": [
              "SphereNet(\n",
              "  (init_e): init(\n",
              "    (emb): Embedding(95, 128)\n",
              "    (lin_rbf_0): Linear(in_features=6, out_features=128, bias=True)\n",
              "    (lin): Linear(in_features=384, out_features=128, bias=True)\n",
              "    (lin_rbf_1): Linear(in_features=6, out_features=128, bias=False)\n",
              "  )\n",
              "  (init_v): update_v(\n",
              "    (lin_up): Linear(in_features=128, out_features=256, bias=True)\n",
              "    (lins): ModuleList(\n",
              "      (0-2): 3 x Linear(in_features=256, out_features=256, bias=True)\n",
              "    )\n",
              "    (lin): Linear(in_features=256, out_features=1, bias=False)\n",
              "  )\n",
              "  (init_u): update_u()\n",
              "  (emb): emb(\n",
              "    (dist_emb): dist_emb(\n",
              "      (envelope): Envelope()\n",
              "    )\n",
              "    (angle_emb): angle_emb()\n",
              "    (torsion_emb): torsion_emb()\n",
              "  )\n",
              "  (update_vs): ModuleList(\n",
              "    (0-3): 4 x update_v(\n",
              "      (lin_up): Linear(in_features=128, out_features=256, bias=True)\n",
              "      (lins): ModuleList(\n",
              "        (0-2): 3 x Linear(in_features=256, out_features=256, bias=True)\n",
              "      )\n",
              "      (lin): Linear(in_features=256, out_features=1, bias=False)\n",
              "    )\n",
              "  )\n",
              "  (update_es): ModuleList(\n",
              "    (0-3): 4 x update_e(\n",
              "      (lin_rbf1): Linear(in_features=6, out_features=8, bias=False)\n",
              "      (lin_rbf2): Linear(in_features=8, out_features=128, bias=False)\n",
              "      (lin_sbf1): Linear(in_features=18, out_features=8, bias=False)\n",
              "      (lin_sbf2): Linear(in_features=8, out_features=64, bias=False)\n",
              "      (lin_t1): Linear(in_features=54, out_features=8, bias=False)\n",
              "      (lin_t2): Linear(in_features=8, out_features=64, bias=False)\n",
              "      (lin_rbf): Linear(in_features=6, out_features=128, bias=False)\n",
              "      (lin_kj): Linear(in_features=128, out_features=128, bias=True)\n",
              "      (lin_ji): Linear(in_features=128, out_features=128, bias=True)\n",
              "      (lin_down): Linear(in_features=128, out_features=64, bias=False)\n",
              "      (lin_up): Linear(in_features=64, out_features=128, bias=False)\n",
              "      (layers_before_skip): ModuleList(\n",
              "        (0): ResidualLayer(\n",
              "          (lin1): Linear(in_features=128, out_features=128, bias=True)\n",
              "          (lin2): Linear(in_features=128, out_features=128, bias=True)\n",
              "        )\n",
              "      )\n",
              "      (lin): Linear(in_features=128, out_features=128, bias=True)\n",
              "      (layers_after_skip): ModuleList(\n",
              "        (0-1): 2 x ResidualLayer(\n",
              "          (lin1): Linear(in_features=128, out_features=128, bias=True)\n",
              "          (lin2): Linear(in_features=128, out_features=128, bias=True)\n",
              "        )\n",
              "      )\n",
              "    )\n",
              "  )\n",
              "  (update_us): ModuleList(\n",
              "    (0-3): 4 x update_u()\n",
              "  )\n",
              ")"
            ]
          },
          "execution_count": 3,
          "metadata": {},
          "output_type": "execute_result"
        }
      ],
      "source": [
        "model"
      ]
    },
    {
      "cell_type": "code",
      "execution_count": 10,
      "metadata": {},
      "outputs": [
        {
          "data": {
            "text/plain": [
              "0.208"
            ]
          },
          "execution_count": 10,
          "metadata": {},
          "output_type": "execute_result"
        }
      ],
      "source": [
        "predict_from_file(\"./test.xyz\",model)[0]"
      ]
    }
  ],
  "metadata": {
    "colab": {
      "provenance": []
    },
    "kernelspec": {
      "display_name": "Python 3",
      "language": "python",
      "name": "python3"
    },
    "language_info": {
      "codemirror_mode": {
        "name": "ipython",
        "version": 3
      },
      "file_extension": ".py",
      "mimetype": "text/x-python",
      "name": "python",
      "nbconvert_exporter": "python",
      "pygments_lexer": "ipython3",
      "version": "3.10.17"
    }
  },
  "nbformat": 4,
  "nbformat_minor": 0
}
