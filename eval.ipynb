{
  "cells": [
    {
      "cell_type": "markdown",
      "metadata": {
        "id": "iT0H-e93uDj0"
      },
      "source": [
        "[![Open In Colab](https://colab.research.google.com/assets/colab-badge.svg)](https://colab.research.google.com/github/caer200/ocelotml_coupling/blob/main/eval.ipynb)"
      ]
    },
    {
      "cell_type": "code",
      "execution_count": 1,
      "metadata": {},
      "outputs": [],
      "source": [
        "from ocelotml import predict_from_file, load_models"
      ]
    },
    {
      "cell_type": "code",
      "execution_count": 2,
      "metadata": {},
      "outputs": [],
      "source": [
        "model =  load_models('hh')"
      ]
    },
    {
      "cell_type": "code",
      "execution_count": 3,
      "metadata": {},
      "outputs": [
        {
          "data": {
            "text/plain": [
              "SphereNet(\n",
              "  (init_e): init(\n",
              "    (emb): Embedding(95, 128)\n",
              "    (lin_rbf_0): Linear(in_features=6, out_features=128, bias=True)\n",
              "    (lin): Linear(in_features=384, out_features=128, bias=True)\n",
              "    (lin_rbf_1): Linear(in_features=6, out_features=128, bias=False)\n",
              "  )\n",
              "  (init_v): update_v(\n",
              "    (lin_up): Linear(in_features=128, out_features=256, bias=True)\n",
              "    (lins): ModuleList(\n",
              "      (0-2): 3 x Linear(in_features=256, out_features=256, bias=True)\n",
              "    )\n",
              "    (lin): Linear(in_features=256, out_features=1, bias=False)\n",
              "  )\n",
              "  (init_u): update_u()\n",
              "  (emb): emb(\n",
              "    (dist_emb): dist_emb(\n",
              "      (envelope): Envelope()\n",
              "    )\n",
              "    (angle_emb): angle_emb()\n",
              "    (torsion_emb): torsion_emb()\n",
              "  )\n",
              "  (update_vs): ModuleList(\n",
              "    (0-3): 4 x update_v(\n",
              "      (lin_up): Linear(in_features=128, out_features=256, bias=True)\n",
              "      (lins): ModuleList(\n",
              "        (0-2): 3 x Linear(in_features=256, out_features=256, bias=True)\n",
              "      )\n",
              "      (lin): Linear(in_features=256, out_features=1, bias=False)\n",
              "    )\n",
              "  )\n",
              "  (update_es): ModuleList(\n",
              "    (0-3): 4 x update_e(\n",
              "      (lin_rbf1): Linear(in_features=6, out_features=8, bias=False)\n",
              "      (lin_rbf2): Linear(in_features=8, out_features=128, bias=False)\n",
              "      (lin_sbf1): Linear(in_features=18, out_features=8, bias=False)\n",
              "      (lin_sbf2): Linear(in_features=8, out_features=64, bias=False)\n",
              "      (lin_t1): Linear(in_features=54, out_features=8, bias=False)\n",
              "      (lin_t2): Linear(in_features=8, out_features=64, bias=False)\n",
              "      (lin_rbf): Linear(in_features=6, out_features=128, bias=False)\n",
              "      (lin_kj): Linear(in_features=128, out_features=128, bias=True)\n",
              "      (lin_ji): Linear(in_features=128, out_features=128, bias=True)\n",
              "      (lin_down): Linear(in_features=128, out_features=64, bias=False)\n",
              "      (lin_up): Linear(in_features=64, out_features=128, bias=False)\n",
              "      (layers_before_skip): ModuleList(\n",
              "        (0): ResidualLayer(\n",
              "          (lin1): Linear(in_features=128, out_features=128, bias=True)\n",
              "          (lin2): Linear(in_features=128, out_features=128, bias=True)\n",
              "        )\n",
              "      )\n",
              "      (lin): Linear(in_features=128, out_features=128, bias=True)\n",
              "      (layers_after_skip): ModuleList(\n",
              "        (0-1): 2 x ResidualLayer(\n",
              "          (lin1): Linear(in_features=128, out_features=128, bias=True)\n",
              "          (lin2): Linear(in_features=128, out_features=128, bias=True)\n",
              "        )\n",
              "      )\n",
              "    )\n",
              "  )\n",
              "  (update_us): ModuleList(\n",
              "    (0-3): 4 x update_u()\n",
              "  )\n",
              ")"
            ]
          },
          "execution_count": 3,
          "metadata": {},
          "output_type": "execute_result"
        }
      ],
      "source": [
        "model"
      ]
    },
    {
      "cell_type": "code",
      "execution_count": 8,
      "metadata": {},
      "outputs": [
        {
          "ename": "KeyboardInterrupt",
          "evalue": "",
          "output_type": "error",
          "traceback": [
            "\u001b[0;31m---------------------------------------------------------------------------\u001b[0m",
            "\u001b[0;31mKeyboardInterrupt\u001b[0m                         Traceback (most recent call last)",
            "Cell \u001b[0;32mIn[8], line 1\u001b[0m\n\u001b[0;32m----> 1\u001b[0m \u001b[43mpredict_from_file\u001b[49m\u001b[43m(\u001b[49m\u001b[38;5;124;43m\"\u001b[39;49m\u001b[38;5;124;43m./test.xyz\u001b[39;49m\u001b[38;5;124;43m\"\u001b[39;49m\u001b[43m,\u001b[49m\u001b[43mmodel\u001b[49m\u001b[43m)\u001b[49m\n",
            "File \u001b[0;32m~/forked_kugupu/ocelotml_coupling/ocelotml/main.py:71\u001b[0m, in \u001b[0;36mpredict_from_file\u001b[0;34m(filename, model)\u001b[0m\n\u001b[1;32m     60\u001b[0m \u001b[38;5;250m\u001b[39m\u001b[38;5;124;03m\"\"\"\u001b[39;00m\n\u001b[1;32m     61\u001b[0m \u001b[38;5;124;03margs: \u001b[39;00m\n\u001b[1;32m     62\u001b[0m \u001b[38;5;124;03m\u001b[39;00m\n\u001b[0;32m   (...)\u001b[0m\n\u001b[1;32m     68\u001b[0m \u001b[38;5;124;03mMakes prediction from XYZ file with dimer coordinates\u001b[39;00m\n\u001b[1;32m     69\u001b[0m \u001b[38;5;124;03m\"\"\"\u001b[39;00m\n\u001b[1;32m     70\u001b[0m molecule \u001b[38;5;241m=\u001b[39m Molecule\u001b[38;5;241m.\u001b[39mfrom_file(filename)\n\u001b[0;32m---> 71\u001b[0m \u001b[38;5;28;01mreturn\u001b[39;00m \u001b[43mpredict_from_molecule\u001b[49m\u001b[43m(\u001b[49m\u001b[43mmolecule\u001b[49m\u001b[43m,\u001b[49m\u001b[43m \u001b[49m\u001b[43mmodel\u001b[49m\u001b[43m)\u001b[49m\n",
            "File \u001b[0;32m~/forked_kugupu/ocelotml_coupling/ocelotml/main.py:57\u001b[0m, in \u001b[0;36mpredict_from_molecule\u001b[0;34m(molecule, model)\u001b[0m\n\u001b[1;32m     55\u001b[0m data \u001b[38;5;241m=\u001b[39m Data(pos\u001b[38;5;241m=\u001b[39mR_i, z\u001b[38;5;241m=\u001b[39mz_i,)\n\u001b[1;32m     56\u001b[0m batch \u001b[38;5;241m=\u001b[39m DataLoader([data], batch_size\u001b[38;5;241m=\u001b[39m\u001b[38;5;241m1\u001b[39m)\n\u001b[0;32m---> 57\u001b[0m \u001b[38;5;28;01mreturn\u001b[39;00m \u001b[43mpredict\u001b[49m\u001b[43m(\u001b[49m\u001b[43mbatch\u001b[49m\u001b[43m,\u001b[49m\u001b[43mmodel\u001b[49m\u001b[43m)\u001b[49m\n",
            "File \u001b[0;32m~/forked_kugupu/ocelotml_coupling/ocelotml/main.py:38\u001b[0m, in \u001b[0;36mpredict\u001b[0;34m(batch, model)\u001b[0m\n\u001b[1;32m     36\u001b[0m results \u001b[38;5;241m=\u001b[39m []\n\u001b[1;32m     37\u001b[0m \u001b[38;5;28;01mfor\u001b[39;00m data \u001b[38;5;129;01min\u001b[39;00m batch:\n\u001b[0;32m---> 38\u001b[0m     prediction \u001b[38;5;241m=\u001b[39m \u001b[43mmodel\u001b[49m\u001b[43m(\u001b[49m\u001b[43mdata\u001b[49m\u001b[43m)\u001b[49m\n\u001b[1;32m     39\u001b[0m     results\u001b[38;5;241m.\u001b[39mappend(\u001b[38;5;28mround\u001b[39m(prediction\u001b[38;5;241m.\u001b[39mdetach()\u001b[38;5;241m.\u001b[39mnumpy()[\u001b[38;5;241m-\u001b[39m\u001b[38;5;241m1\u001b[39m][\u001b[38;5;241m0\u001b[39m],\u001b[38;5;241m3\u001b[39m))\n\u001b[1;32m     40\u001b[0m \u001b[38;5;28;01mreturn\u001b[39;00m results\n",
            "File \u001b[0;32m~/.local/share/mamba/envs/ocelotml/lib/python3.10/site-packages/torch/nn/modules/module.py:1739\u001b[0m, in \u001b[0;36mModule._wrapped_call_impl\u001b[0;34m(self, *args, **kwargs)\u001b[0m\n\u001b[1;32m   1737\u001b[0m     \u001b[38;5;28;01mreturn\u001b[39;00m \u001b[38;5;28mself\u001b[39m\u001b[38;5;241m.\u001b[39m_compiled_call_impl(\u001b[38;5;241m*\u001b[39margs, \u001b[38;5;241m*\u001b[39m\u001b[38;5;241m*\u001b[39mkwargs)  \u001b[38;5;66;03m# type: ignore[misc]\u001b[39;00m\n\u001b[1;32m   1738\u001b[0m \u001b[38;5;28;01melse\u001b[39;00m:\n\u001b[0;32m-> 1739\u001b[0m     \u001b[38;5;28;01mreturn\u001b[39;00m \u001b[38;5;28;43mself\u001b[39;49m\u001b[38;5;241;43m.\u001b[39;49m\u001b[43m_call_impl\u001b[49m\u001b[43m(\u001b[49m\u001b[38;5;241;43m*\u001b[39;49m\u001b[43margs\u001b[49m\u001b[43m,\u001b[49m\u001b[43m \u001b[49m\u001b[38;5;241;43m*\u001b[39;49m\u001b[38;5;241;43m*\u001b[39;49m\u001b[43mkwargs\u001b[49m\u001b[43m)\u001b[49m\n",
            "File \u001b[0;32m~/.local/share/mamba/envs/ocelotml/lib/python3.10/site-packages/torch/nn/modules/module.py:1750\u001b[0m, in \u001b[0;36mModule._call_impl\u001b[0;34m(self, *args, **kwargs)\u001b[0m\n\u001b[1;32m   1745\u001b[0m \u001b[38;5;66;03m# If we don't have any hooks, we want to skip the rest of the logic in\u001b[39;00m\n\u001b[1;32m   1746\u001b[0m \u001b[38;5;66;03m# this function, and just call forward.\u001b[39;00m\n\u001b[1;32m   1747\u001b[0m \u001b[38;5;28;01mif\u001b[39;00m \u001b[38;5;129;01mnot\u001b[39;00m (\u001b[38;5;28mself\u001b[39m\u001b[38;5;241m.\u001b[39m_backward_hooks \u001b[38;5;129;01mor\u001b[39;00m \u001b[38;5;28mself\u001b[39m\u001b[38;5;241m.\u001b[39m_backward_pre_hooks \u001b[38;5;129;01mor\u001b[39;00m \u001b[38;5;28mself\u001b[39m\u001b[38;5;241m.\u001b[39m_forward_hooks \u001b[38;5;129;01mor\u001b[39;00m \u001b[38;5;28mself\u001b[39m\u001b[38;5;241m.\u001b[39m_forward_pre_hooks\n\u001b[1;32m   1748\u001b[0m         \u001b[38;5;129;01mor\u001b[39;00m _global_backward_pre_hooks \u001b[38;5;129;01mor\u001b[39;00m _global_backward_hooks\n\u001b[1;32m   1749\u001b[0m         \u001b[38;5;129;01mor\u001b[39;00m _global_forward_hooks \u001b[38;5;129;01mor\u001b[39;00m _global_forward_pre_hooks):\n\u001b[0;32m-> 1750\u001b[0m     \u001b[38;5;28;01mreturn\u001b[39;00m \u001b[43mforward_call\u001b[49m\u001b[43m(\u001b[49m\u001b[38;5;241;43m*\u001b[39;49m\u001b[43margs\u001b[49m\u001b[43m,\u001b[49m\u001b[43m \u001b[49m\u001b[38;5;241;43m*\u001b[39;49m\u001b[38;5;241;43m*\u001b[39;49m\u001b[43mkwargs\u001b[49m\u001b[43m)\u001b[49m\n\u001b[1;32m   1752\u001b[0m result \u001b[38;5;241m=\u001b[39m \u001b[38;5;28;01mNone\u001b[39;00m\n\u001b[1;32m   1753\u001b[0m called_always_called_hooks \u001b[38;5;241m=\u001b[39m \u001b[38;5;28mset\u001b[39m()\n",
            "File \u001b[0;32m~/.local/share/mamba/envs/ocelotml/lib/python3.10/site-packages/dig/threedgraph/method/spherenet/spherenet.py:306\u001b[0m, in \u001b[0;36mSphereNet.forward\u001b[0;34m(self, batch_data)\u001b[0m\n\u001b[1;32m    304\u001b[0m edge_index \u001b[38;5;241m=\u001b[39m radius_graph(pos, r\u001b[38;5;241m=\u001b[39m\u001b[38;5;28mself\u001b[39m\u001b[38;5;241m.\u001b[39mcutoff, batch\u001b[38;5;241m=\u001b[39mbatch)\n\u001b[1;32m    305\u001b[0m num_nodes\u001b[38;5;241m=\u001b[39mz\u001b[38;5;241m.\u001b[39msize(\u001b[38;5;241m0\u001b[39m)\n\u001b[0;32m--> 306\u001b[0m dist, angle, torsion, i, j, idx_kj, idx_ji \u001b[38;5;241m=\u001b[39m \u001b[43mxyz_to_dat\u001b[49m\u001b[43m(\u001b[49m\u001b[43mpos\u001b[49m\u001b[43m,\u001b[49m\u001b[43m \u001b[49m\u001b[43medge_index\u001b[49m\u001b[43m,\u001b[49m\u001b[43m \u001b[49m\u001b[43mnum_nodes\u001b[49m\u001b[43m,\u001b[49m\u001b[43m \u001b[49m\u001b[43muse_torsion\u001b[49m\u001b[38;5;241;43m=\u001b[39;49m\u001b[38;5;28;43;01mTrue\u001b[39;49;00m\u001b[43m)\u001b[49m\n\u001b[1;32m    308\u001b[0m emb \u001b[38;5;241m=\u001b[39m \u001b[38;5;28mself\u001b[39m\u001b[38;5;241m.\u001b[39memb(dist, angle, torsion, idx_kj)\n\u001b[1;32m    310\u001b[0m \u001b[38;5;66;03m#Initialize edge, node, graph features\u001b[39;00m\n",
            "File \u001b[0;32m~/.local/share/mamba/envs/ocelotml/lib/python3.10/site-packages/dig/threedgraph/utils/geometric_computing.py:70\u001b[0m, in \u001b[0;36mxyz_to_dat\u001b[0;34m(pos, edge_index, num_nodes, use_torsion)\u001b[0m\n\u001b[1;32m     68\u001b[0m dist_ji \u001b[38;5;241m=\u001b[39m pos_ji\u001b[38;5;241m.\u001b[39mpow(\u001b[38;5;241m2\u001b[39m)\u001b[38;5;241m.\u001b[39msum(dim\u001b[38;5;241m=\u001b[39m\u001b[38;5;241m-\u001b[39m\u001b[38;5;241m1\u001b[39m)\u001b[38;5;241m.\u001b[39msqrt()\n\u001b[1;32m     69\u001b[0m plane1 \u001b[38;5;241m=\u001b[39m torch\u001b[38;5;241m.\u001b[39mcross(pos_ji, pos_j0)\n\u001b[0;32m---> 70\u001b[0m plane2 \u001b[38;5;241m=\u001b[39m \u001b[43mtorch\u001b[49m\u001b[38;5;241;43m.\u001b[39;49m\u001b[43mcross\u001b[49m\u001b[43m(\u001b[49m\u001b[43mpos_ji\u001b[49m\u001b[43m,\u001b[49m\u001b[43m \u001b[49m\u001b[43mpos_jk\u001b[49m\u001b[43m)\u001b[49m\n\u001b[1;32m     71\u001b[0m a \u001b[38;5;241m=\u001b[39m (plane1 \u001b[38;5;241m*\u001b[39m plane2)\u001b[38;5;241m.\u001b[39msum(dim\u001b[38;5;241m=\u001b[39m\u001b[38;5;241m-\u001b[39m\u001b[38;5;241m1\u001b[39m) \u001b[38;5;66;03m# cos_angle * |plane1| * |plane2|\u001b[39;00m\n\u001b[1;32m     72\u001b[0m b \u001b[38;5;241m=\u001b[39m (torch\u001b[38;5;241m.\u001b[39mcross(plane1, plane2) \u001b[38;5;241m*\u001b[39m pos_ji)\u001b[38;5;241m.\u001b[39msum(dim\u001b[38;5;241m=\u001b[39m\u001b[38;5;241m-\u001b[39m\u001b[38;5;241m1\u001b[39m) \u001b[38;5;241m/\u001b[39m dist_ji \n",
            "\u001b[0;31mKeyboardInterrupt\u001b[0m: "
          ]
        }
      ],
      "source": [
        "predict_from_file(\"./test.xyz\",model)"
      ]
    }
  ],
  "metadata": {
    "colab": {
      "provenance": []
    },
    "kernelspec": {
      "display_name": "Python 3",
      "language": "python",
      "name": "python3"
    },
    "language_info": {
      "codemirror_mode": {
        "name": "ipython",
        "version": 3
      },
      "file_extension": ".py",
      "mimetype": "text/x-python",
      "name": "python",
      "nbconvert_exporter": "python",
      "pygments_lexer": "ipython3",
      "version": "3.10.17"
    }
  },
  "nbformat": 4,
  "nbformat_minor": 0
}
