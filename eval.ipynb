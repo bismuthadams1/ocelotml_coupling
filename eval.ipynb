{
  "cells": [
    {
      "cell_type": "markdown",
      "metadata": {
        "id": "iT0H-e93uDj0"
      },
      "source": [
        "[![Open In Colab](https://colab.research.google.com/assets/colab-badge.svg)](https://colab.research.google.com/github/caer200/ocelotml_coupling/blob/main/eval.ipynb)"
      ]
    },
    {
      "cell_type": "markdown",
      "metadata": {
        "id": "cM2TW1p2qTju"
      },
      "source": [
        "## Helper functions to load model and generate the input"
      ]
    },
    {
      "cell_type": "code",
      "execution_count": 6,
      "metadata": {
        "id": "h18-MHQef9t7"
      },
      "outputs": [],
      "source": [
        "from dig.threedgraph.method import SphereNet\n",
        "from dig.threedgraph.evaluation import ThreeDEvaluator\n",
        "import torch\n",
        "import numpy as np\n",
        "from torch_geometric.data import Data\n",
        "from pymatgen.core.structure import Structure, Molecule\n",
        "from torch_geometric.loader import DataLoader\n",
        "\n",
        "def predict(batch, checkpoint):\n",
        "    model = SphereNet(energy_and_force=False, cutoff=5.0, num_layers=4,\n",
        "                      hidden_channels=128, out_channels=1, int_emb_size=64,\n",
        "                      basis_emb_size_dist=8, basis_emb_size_angle=8, basis_emb_size_torsion=8, out_emb_channels=256,\n",
        "                      num_spherical=3, num_radial=6, envelope_exponent=5,\n",
        "                      num_before_skip=1, num_after_skip=2, num_output_layers=3)\n",
        "    model.load_state_dict(torch.load(checkpoint,map_location=torch.device('cpu'), weights_only = False)[\"model_state_dict\"])\n",
        "    model.eval()\n",
        "    results = []\n",
        "    for data in batch:\n",
        "        prediction = model(data)\n",
        "        results.append(round(prediction.detach().numpy()[-1][0],3))\n",
        "    return results\n",
        "\n",
        "def predict_from_molecule(molecule, checkpoint):\n",
        "    \"\"\"\n",
        "    args: \n",
        "\n",
        "    molecule (Molecule): pymatgen Molecule object\n",
        "    checkpoint (str): path to checkpoint file \n",
        "\n",
        "    Description:\n",
        "\n",
        "    Makes prediction from Molecule object\n",
        "    \"\"\"\n",
        "    R_i = torch.tensor(molecule.cart_coords, dtype=torch.float32)\n",
        "    z_i = torch.tensor(np.array(molecule.atomic_numbers), dtype=torch.int64)\n",
        "    data = Data(pos=R_i, z=z_i,)\n",
        "    batch = DataLoader([data], batch_size=1)\n",
        "    return predict(batch,checkpoint=checkpoint)\n",
        "\n",
        "def predict_from_file(filename, checkpoint):\n",
        "    \"\"\"\n",
        "    args: \n",
        "    \n",
        "    filename (str): path to xyz file\n",
        "    checkpoint (str): path to checkpoint file\n",
        "\n",
        "    Description:\n",
        "\n",
        "    Makes prediction from XYZ file with dimer coordinates\n",
        "    \"\"\"\n",
        "    molecule = Molecule.from_file(filename)\n",
        "    return predict_from_molecule(molecule, checkpoint)\n",
        "\n",
        "# get the pretrain model \n",
        "# ! git clone https://github.com/caer200/ocelotml_coupling.git"
      ]
    },
    {
      "cell_type": "markdown",
      "metadata": {
        "id": "RLWvZ7UkrYRZ"
      },
      "source": [
        "### Making HOMO-HOMO coupling prediction from XYZ file. Output in eV."
      ]
    },
    {
      "cell_type": "code",
      "execution_count": 7,
      "metadata": {
        "id": "94PGa6ivhy2f"
      },
      "outputs": [
        {
          "name": "stderr",
          "output_type": "stream",
          "text": [
            "/Users/k2584788/.local/share/mamba/envs/ocelotml/lib/python3.10/site-packages/dig/threedgraph/utils/geometric_computing.py:47: UserWarning: Using torch.cross without specifying the dim arg is deprecated.\n",
            "Please either pass the dim explicitly or simply use torch.linalg.cross.\n",
            "The default value of dim will change to agree with that of linalg.cross in a future release. (Triggered internally at /Users/runner/miniforge3/conda-bld/libtorch_1744233393360/work/aten/src/ATen/native/Cross.cpp:66.)\n",
            "  b = torch.cross(pos_ji, pos_jk).norm(dim=-1) # sin_angle * |pos_ji| * |pos_jk|\n"
          ]
        },
        {
          "data": {
            "text/plain": [
              "0.208"
            ]
          },
          "execution_count": 7,
          "metadata": {},
          "output_type": "execute_result"
        }
      ],
      "source": [
        "predict_from_file(\"./test.xyz\",\"./models/hh.pt\")[0]"
      ]
    },
    {
      "cell_type": "code",
      "execution_count": 1,
      "metadata": {},
      "outputs": [
        {
          "ename": "ModuleNotFoundError",
          "evalue": "No module named 'ocelotml'",
          "output_type": "error",
          "traceback": [
            "\u001b[0;31m---------------------------------------------------------------------------\u001b[0m",
            "\u001b[0;31mModuleNotFoundError\u001b[0m                       Traceback (most recent call last)",
            "Cell \u001b[0;32mIn[1], line 1\u001b[0m\n\u001b[0;32m----> 1\u001b[0m \u001b[38;5;28;01mimport\u001b[39;00m\u001b[38;5;250m \u001b[39m\u001b[38;5;21;01mocelotml\u001b[39;00m\n",
            "\u001b[0;31mModuleNotFoundError\u001b[0m: No module named 'ocelotml'"
          ]
        }
      ],
      "source": [
        "import ocelotml"
      ]
    }
  ],
  "metadata": {
    "colab": {
      "provenance": []
    },
    "kernelspec": {
      "display_name": "Python 3",
      "language": "python",
      "name": "python3"
    },
    "language_info": {
      "codemirror_mode": {
        "name": "ipython",
        "version": 3
      },
      "file_extension": ".py",
      "mimetype": "text/x-python",
      "name": "python",
      "nbconvert_exporter": "python",
      "pygments_lexer": "ipython3",
      "version": "3.10.17"
    }
  },
  "nbformat": 4,
  "nbformat_minor": 0
}
