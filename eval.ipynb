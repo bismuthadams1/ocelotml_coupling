{
  "nbformat": 4,
  "nbformat_minor": 0,
  "metadata": {
    "colab": {
      "provenance": []
    },
    "kernelspec": {
      "name": "python3",
      "display_name": "Python 3"
    },
    "language_info": {
      "name": "python"
    }
  },
  "cells": [
    {
      "cell_type": "markdown",
      "source": [
        "[![Open In Colab](https://colab.research.google.com/assets/colab-badge.svg)](https://colab.research.google.com/github/caer200/ocelotml_coupling/blob/main/eval.ipynb)"
      ],
      "metadata": {
        "id": "iT0H-e93uDj0"
      }
    },
    {
      "cell_type": "markdown",
      "source": [
        "# Install dependencies for [Dive into graphs](https://github.com/divelab/DIG)"
      ],
      "metadata": {
        "id": "E7ycbtGop6Ty"
      }
    },
    {
      "cell_type": "code",
      "source": [
        "import torch\n",
        "\n",
        "def format_pytorch_version(version):\n",
        "  return version.split('+')[0]\n",
        "\n",
        "TORCH_version = torch.__version__\n",
        "TORCH = format_pytorch_version(TORCH_version)\n",
        "\n",
        "def format_cuda_version(version):\n",
        "  return 'cu' + version.replace('.', '')\n",
        "\n",
        "CUDA_version = torch.version.cuda\n",
        "CUDA = format_cuda_version(CUDA_version)\n",
        "\n",
        "!pip install torch-scatter     -f https://pytorch-geometric.com/whl/torch-{TORCH}+{CUDA}.html\n",
        "!pip install torch-sparse      -f https://pytorch-geometric.com/whl/torch-{TORCH}+{CUDA}.html\n",
        "!pip install torch-cluster     -f https://pytorch-geometric.com/whl/torch-{TORCH}+{CUDA}.html\n",
        "!pip install torch-spline-conv -f https://pytorch-geometric.com/whl/torch-{TORCH}+{CUDA}.html\n",
        "!pip install torch-geometric "
      ],
      "metadata": {
        "id": "WWm6HDL4glHh"
      },
      "execution_count": null,
      "outputs": []
    },
    {
      "cell_type": "markdown",
      "source": [
        "# Install DIG"
      ],
      "metadata": {
        "id": "-QjUAMn9qHi6"
      }
    },
    {
      "cell_type": "code",
      "execution_count": null,
      "metadata": {
        "id": "7Q9K-itgf7Mx"
      },
      "outputs": [],
      "source": [
        "! pip install git+https://github.com/divelab/DIG.git"
      ]
    },
    {
      "cell_type": "markdown",
      "source": [
        "# Install pymatgen for handling molecules"
      ],
      "metadata": {
        "id": "mfIjp0QKqKeY"
      }
    },
    {
      "cell_type": "code",
      "source": [
        "!pip install pymatgen"
      ],
      "metadata": {
        "id": "oMa3yV2QkSbC"
      },
      "execution_count": null,
      "outputs": []
    },
    {
      "cell_type": "markdown",
      "source": [
        "## Helper functions to load model and generate the input"
      ],
      "metadata": {
        "id": "cM2TW1p2qTju"
      }
    },
    {
      "cell_type": "code",
      "source": [
        "from dig.threedgraph.method import SphereNet\n",
        "from dig.threedgraph.evaluation import ThreeDEvaluator\n",
        "import torch\n",
        "import numpy as np\n",
        "from torch_geometric.data import Data\n",
        "from pymatgen.core.structure import Structure, Molecule\n",
        "from torch_geometric.loader import DataLoader\n",
        "\n",
        "def predict(batch, checkpoint):\n",
        "    model = SphereNet(energy_and_force=False, cutoff=5.0, num_layers=4,\n",
        "                      hidden_channels=128, out_channels=1, int_emb_size=64,\n",
        "                      basis_emb_size_dist=8, basis_emb_size_angle=8, basis_emb_size_torsion=8, out_emb_channels=256,\n",
        "                      num_spherical=3, num_radial=6, envelope_exponent=5,\n",
        "                      num_before_skip=1, num_after_skip=2, num_output_layers=3)\n",
        "    model.load_state_dict(torch.load(checkpoint,map_location=torch.device('cpu'))[\"model_state_dict\"])\n",
        "    model.eval()\n",
        "    results = []\n",
        "    for data in batch:\n",
        "        prediction = model(data)\n",
        "        results.append(round(prediction.detach().numpy()[-1][0],3))\n",
        "    return results\n",
        "\n",
        "def predict_from_molecule(molecule, checkpoint):\n",
        "    \"\"\"\n",
        "    args: \n",
        "\n",
        "    molecule (Molecule): pymatgen Molecule object\n",
        "    checkpoint (str): path to checkpoint file \n",
        "\n",
        "    Description:\n",
        "\n",
        "    Makes prediction from Molecule object\n",
        "    \"\"\"\n",
        "    R_i = torch.tensor(molecule.cart_coords, dtype=torch.float32)\n",
        "    z_i = torch.tensor(np.array(molecule.atomic_numbers), dtype=torch.int64)\n",
        "    data = Data(pos=R_i, z=z_i,)\n",
        "    batch = DataLoader([data], batch_size=1)\n",
        "    return predict(batch,checkpoint=checkpoint)\n",
        "\n",
        "def predict_from_file(filename, checkpoint):\n",
        "    \"\"\"\n",
        "    args: \n",
        "    \n",
        "    filename (str): path to xyz file\n",
        "    checkpoint (str): path to checkpoint file\n",
        "\n",
        "    Description:\n",
        "\n",
        "    Makes prediction from XYZ file with dimer coordinates\n",
        "    \"\"\"\n",
        "    molecule = Molecule.from_file(filename)\n",
        "    return predict_from_molecule(molecule, checkpoint)\n",
        "\n",
        "# get the pretrain model \n",
        "! git clone https://github.com/caer200/ocelotml_coupling.git"
      ],
      "metadata": {
        "id": "h18-MHQef9t7"
      },
      "execution_count": null,
      "outputs": []
    },
    {
      "cell_type": "markdown",
      "source": [
        "### Making HOMO-HOMO coupling prediction from XYZ file. Output in eV."
      ],
      "metadata": {
        "id": "RLWvZ7UkrYRZ"
      }
    },
    {
      "cell_type": "code",
      "source": [
        "predict_from_file(\"ocelotml_coupling/models/test.xyz\",\"ocelotml_coupling/models/hh.pt\")[0]"
      ],
      "metadata": {
        "id": "94PGa6ivhy2f"
      },
      "execution_count": null,
      "outputs": []
    }
  ]
}